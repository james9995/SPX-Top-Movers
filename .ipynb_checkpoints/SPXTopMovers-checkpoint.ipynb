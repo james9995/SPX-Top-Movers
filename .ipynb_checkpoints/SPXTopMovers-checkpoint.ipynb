{
 "cells": [
  {
   "cell_type": "code",
   "execution_count": 1,
   "metadata": {},
   "outputs": [],
   "source": [
    "import pandas as pd\n",
    "import win32com.client as win32\n",
    "from pandas_datareader import data\n",
    "import matplotlib.pyplot as plt\n",
    "import numpy as np\n",
    "import urllib.request\n",
    "from datetime import date\n",
    "from datetime import timedelta\n",
    "from bs4 import BeautifulSoup"
   ]
  },
  {
   "cell_type": "code",
   "execution_count": 2,
   "metadata": {},
   "outputs": [],
   "source": [
    "tickers_page_address = 'https://en.wikipedia.org/wiki/S%26P_100'"
   ]
  },
  {
   "cell_type": "code",
   "execution_count": 3,
   "metadata": {},
   "outputs": [],
   "source": [
    "tickers_page_html = urllib.request.urlopen(tickers_page_address)"
   ]
  },
  {
   "cell_type": "code",
   "execution_count": 4,
   "metadata": {},
   "outputs": [],
   "source": [
    "soup = BeautifulSoup(tickers_page_html,'html.parser')"
   ]
  },
  {
   "cell_type": "code",
   "execution_count": 5,
   "metadata": {},
   "outputs": [],
   "source": [
    "all_ticker_text = soup.find_all('td')"
   ]
  },
  {
   "cell_type": "code",
   "execution_count": 6,
   "metadata": {
    "scrolled": true
   },
   "outputs": [],
   "source": [
    "tickers = []\n",
    "names = []\n",
    "for x in range(1, 100):\n",
    "    tickers.append((all_ticker_text[x*2+13].get_text())[:-1])\n",
    "    names.append((all_ticker_text[x*2+14].get_text())[:-1])"
   ]
  },
  {
   "cell_type": "code",
   "execution_count": 7,
   "metadata": {
    "scrolled": false
   },
   "outputs": [
    {
     "name": "stdout",
     "output_type": "stream",
     "text": [
      "['AAPL', 'ABBV', 'ABT', 'ACN', 'AGN', 'AIG', 'ALL', 'AMGN', 'AMZN', 'AXP', 'BA', 'BAC', 'BIIB', 'BK', 'BKNG', 'BLK', 'BMY', 'BRK.B', 'C', 'CAT', 'CELG', 'CHTR', 'CL', 'CMCSA', 'COF', 'COP', 'COST', 'CSCO', 'CVS', 'CVX', 'DHR', 'DIS', 'DUK', 'DOW', 'DWDP', 'EMR', 'EXC', 'F', 'FB', 'FDX', 'FOX', 'FOXA', 'GD', 'GE', 'GILD', 'GM', 'GOOG', 'GOOGL', 'GS', 'HD', 'HON', 'IBM', 'INTC', 'JNJ', 'JPM', 'KHC', 'KMI', 'KO', 'LLY', 'LMT', 'LOW', 'MA', 'MCD', 'MDLZ', 'MDT', 'MET', 'MMM', 'MO', 'MRK', 'MS', 'MSFT', 'NEE', 'NFLX', 'NKE', 'NVDA', 'ORCL', 'OXY', 'PEP', 'PFE', 'PG', 'PM', 'PYPL', 'QCOM', 'RTN', 'SBUX', 'SLB', 'SO', 'SPG', 'T', 'TGT', 'TXN', 'UNH', 'UNP', 'UPS', 'USB', 'UTX', 'V', 'VZ', 'WBA']\n"
     ]
    }
   ],
   "source": [
    "print(tickers)\n"
   ]
  },
  {
   "cell_type": "code",
   "execution_count": 8,
   "metadata": {},
   "outputs": [
    {
     "name": "stdout",
     "output_type": "stream",
     "text": [
      "2019-04-10\n",
      "2019-04-05\n"
     ]
    }
   ],
   "source": [
    "today = str(date.today())\n",
    "start_date = str(date.today()-timedelta(days=5))\n",
    "print(today)\n",
    "print(start_date)"
   ]
  },
  {
   "cell_type": "code",
   "execution_count": 9,
   "metadata": {},
   "outputs": [
    {
     "name": "stdout",
     "output_type": "stream",
     "text": [
      "AAPL\n",
      "ABBV\n",
      "ABT\n",
      "ACN\n",
      "AGN\n",
      "AIG\n",
      "ALL\n",
      "AMGN\n",
      "AMZN\n",
      "AXP\n",
      "BA\n",
      "BAC\n",
      "BIIB\n",
      "BK\n",
      "BKNG\n",
      "BLK\n",
      "BMY\n",
      "BRK.B\n",
      "C\n",
      "CAT\n",
      "CELG\n",
      "CHTR\n",
      "CL\n",
      "CMCSA\n",
      "COF\n",
      "COP\n",
      "COST\n",
      "CSCO\n",
      "CVS\n",
      "CVX\n",
      "DHR\n",
      "DIS\n",
      "DUK\n",
      "DOW\n",
      "DWDP\n",
      "EMR\n",
      "EXC\n",
      "F\n",
      "FB\n",
      "FDX\n",
      "FOX\n",
      "FOXA\n",
      "GD\n",
      "GE\n",
      "GILD\n",
      "GM\n",
      "GOOG\n",
      "GOOGL\n",
      "GS\n",
      "HD\n",
      "HON\n",
      "IBM\n",
      "INTC\n",
      "JNJ\n",
      "JPM\n",
      "KHC\n",
      "KMI\n",
      "KO\n",
      "LLY\n",
      "LMT\n",
      "LOW\n",
      "MA\n",
      "MCD\n",
      "MDLZ\n",
      "MDT\n",
      "MET\n",
      "MMM\n",
      "MO\n",
      "MRK\n",
      "MS\n",
      "MSFT\n",
      "NEE\n",
      "NFLX\n",
      "NKE\n",
      "NVDA\n",
      "ORCL\n",
      "OXY\n",
      "PEP\n",
      "PFE\n",
      "PG\n",
      "PM\n",
      "PYPL\n",
      "QCOM\n",
      "RTN\n",
      "SBUX\n",
      "SLB\n",
      "SO\n",
      "SPG\n",
      "T\n",
      "TGT\n",
      "TXN\n",
      "UNH\n",
      "UNP\n",
      "UPS\n",
      "USB\n",
      "UTX\n",
      "V\n",
      "VZ\n",
      "WBA\n"
     ]
    }
   ],
   "source": [
    "price_data = []\n",
    "valid_tickers = []\n",
    "valid_names = []\n",
    "for i in range(0, 99):\n",
    "    try: \n",
    "        print(tickers[i])\n",
    "        price_data.append(data.DataReader(tickers[i],'iex',start_date,today).close)\n",
    "        valid_tickers.append(tickers[i])\n",
    "        valid_names.append(names[i])\n",
    "    except: \n",
    "        pass"
   ]
  },
  {
   "cell_type": "code",
   "execution_count": 10,
   "metadata": {},
   "outputs": [],
   "source": [
    "df_price_data = pd.DataFrame(price_data)\n",
    "movements = pd.DataFrame()\n",
    "for i in range(0, len(valid_tickers)-1):\n",
    "    percent_move = np.log(float(df_price_data.iloc[i,-1])/float(df_price_data.iloc[i,-2]))\n",
    "    movements = movements.append({'ticker': valid_tickers[i], 'name': valid_names[i], 'change': \"{0:.2f}%\".format(percent_move*100), 'absChange': np.abs(percent_move)}, ignore_index=True)"
   ]
  },
  {
   "cell_type": "code",
   "execution_count": 11,
   "metadata": {},
   "outputs": [],
   "source": [
    "movements_top10 = movements.sort_values(by=['absChange'], ascending=False)[:10]"
   ]
  },
  {
   "cell_type": "code",
   "execution_count": 12,
   "metadata": {},
   "outputs": [],
   "source": [
    "movements_top10 = movements_top10.reset_index(drop=True)\n",
    "movements_top10.index = movements_top10.index + 1"
   ]
  },
  {
   "cell_type": "code",
   "execution_count": 13,
   "metadata": {},
   "outputs": [],
   "source": [
    "del movements_top10['absChange']"
   ]
  },
  {
   "cell_type": "code",
   "execution_count": 14,
   "metadata": {},
   "outputs": [],
   "source": [
    "movements_top10 = movements_top10[['ticker','name','change']]\n",
    "movements_top10.columns = ['Ticker','name',list(df_price_data)[-1]]"
   ]
  },
  {
   "cell_type": "code",
   "execution_count": 15,
   "metadata": {
    "scrolled": false
   },
   "outputs": [
    {
     "data": {
      "text/html": [
       "<div>\n",
       "<style scoped>\n",
       "    .dataframe tbody tr th:only-of-type {\n",
       "        vertical-align: middle;\n",
       "    }\n",
       "\n",
       "    .dataframe tbody tr th {\n",
       "        vertical-align: top;\n",
       "    }\n",
       "\n",
       "    .dataframe thead th {\n",
       "        text-align: right;\n",
       "    }\n",
       "</style>\n",
       "<table border=\"1\" class=\"dataframe\">\n",
       "  <thead>\n",
       "    <tr style=\"text-align: right;\">\n",
       "      <th></th>\n",
       "      <th>Ticker</th>\n",
       "      <th>name</th>\n",
       "      <th>2019-04-09</th>\n",
       "    </tr>\n",
       "  </thead>\n",
       "  <tbody>\n",
       "    <tr>\n",
       "      <th>1</th>\n",
       "      <td>GE</td>\n",
       "      <td>General Electric</td>\n",
       "      <td>-2.89%</td>\n",
       "    </tr>\n",
       "    <tr>\n",
       "      <th>2</th>\n",
       "      <td>CAT</td>\n",
       "      <td>Caterpillar Inc.</td>\n",
       "      <td>-2.51%</td>\n",
       "    </tr>\n",
       "    <tr>\n",
       "      <th>3</th>\n",
       "      <td>LOW</td>\n",
       "      <td>Lowe's</td>\n",
       "      <td>-2.32%</td>\n",
       "    </tr>\n",
       "    <tr>\n",
       "      <th>4</th>\n",
       "      <td>AGN</td>\n",
       "      <td>Allergan</td>\n",
       "      <td>-2.05%</td>\n",
       "    </tr>\n",
       "    <tr>\n",
       "      <th>5</th>\n",
       "      <td>GILD</td>\n",
       "      <td>Gilead Sciences</td>\n",
       "      <td>-1.93%</td>\n",
       "    </tr>\n",
       "    <tr>\n",
       "      <th>6</th>\n",
       "      <td>GD</td>\n",
       "      <td>General Dynamics</td>\n",
       "      <td>-1.83%</td>\n",
       "    </tr>\n",
       "    <tr>\n",
       "      <th>7</th>\n",
       "      <td>BMY</td>\n",
       "      <td>Bristol-Myers Squibb</td>\n",
       "      <td>-1.75%</td>\n",
       "    </tr>\n",
       "    <tr>\n",
       "      <th>8</th>\n",
       "      <td>DIS</td>\n",
       "      <td>The Walt Disney Company</td>\n",
       "      <td>1.64%</td>\n",
       "    </tr>\n",
       "    <tr>\n",
       "      <th>9</th>\n",
       "      <td>MS</td>\n",
       "      <td>Morgan Stanley</td>\n",
       "      <td>-1.61%</td>\n",
       "    </tr>\n",
       "    <tr>\n",
       "      <th>10</th>\n",
       "      <td>OXY</td>\n",
       "      <td>Occidental Petroleum Corp.</td>\n",
       "      <td>-1.61%</td>\n",
       "    </tr>\n",
       "  </tbody>\n",
       "</table>\n",
       "</div>"
      ],
      "text/plain": [
       "   Ticker                        name 2019-04-09\n",
       "1      GE            General Electric     -2.89%\n",
       "2     CAT            Caterpillar Inc.     -2.51%\n",
       "3     LOW                      Lowe's     -2.32%\n",
       "4     AGN                    Allergan     -2.05%\n",
       "5    GILD             Gilead Sciences     -1.93%\n",
       "6      GD            General Dynamics     -1.83%\n",
       "7     BMY        Bristol-Myers Squibb     -1.75%\n",
       "8     DIS     The Walt Disney Company      1.64%\n",
       "9      MS              Morgan Stanley     -1.61%\n",
       "10    OXY  Occidental Petroleum Corp.     -1.61%"
      ]
     },
     "execution_count": 15,
     "metadata": {},
     "output_type": "execute_result"
    }
   ],
   "source": [
    "movements_top10"
   ]
  },
  {
   "cell_type": "code",
   "execution_count": 16,
   "metadata": {},
   "outputs": [],
   "source": [
    "import win32com.client as win32\n",
    "outlook = win32.Dispatch('outlook.application')\n",
    "mail = outlook.CreateItem(0)\n",
    "mail.To = 'james9995@hotmail.co.uk'\n",
    "mail.Subject = 'S&P 100 Top 10 Movers '+list(df_price_data)[-1]\n",
    "mail.Body = 'S&P 100 Top 10 Movers'\n",
    "html1 = movements_top10.to_html()\n",
    "mail.HTMLBody = html1\n",
    "mail.Send()\n"
   ]
  },
  {
   "cell_type": "code",
   "execution_count": null,
   "metadata": {},
   "outputs": [],
   "source": []
  }
 ],
 "metadata": {
  "kernelspec": {
   "display_name": "Python 3",
   "language": "python",
   "name": "python3"
  },
  "language_info": {
   "codemirror_mode": {
    "name": "ipython",
    "version": 3
   },
   "file_extension": ".py",
   "mimetype": "text/x-python",
   "name": "python",
   "nbconvert_exporter": "python",
   "pygments_lexer": "ipython3",
   "version": "3.7.3"
  }
 },
 "nbformat": 4,
 "nbformat_minor": 2
}
